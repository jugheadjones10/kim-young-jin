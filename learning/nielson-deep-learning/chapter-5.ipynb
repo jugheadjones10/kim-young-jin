{
 "cells": [
  {
   "cell_type": "raw",
   "metadata": {
    "vscode": {
     "languageId": "raw"
    }
   },
   "source": [
    "---\n",
    "title: Replication of some chapter 5 results\n",
    "author: \"Kim Young Jin\"\n",
    "date: \"2024-07-01\"\n",
    "---"
   ]
  },
  {
   "cell_type": "code",
   "execution_count": 1,
   "metadata": {},
   "outputs": [],
   "source": [
    "import matplotlib.pyplot as plt\n",
    "import mnist_loader  # noqa\n",
    "import torch\n",
    "import random\n",
    "import torch.nn as nn  # noqa\n",
    "import network2"
   ]
  },
  {
   "cell_type": "code",
   "execution_count": 5,
   "metadata": {},
   "outputs": [],
   "source": [
    "training_data, validation_data, test_data = mnist_loader.load_data_wrapper()\n",
    "training_data = list(training_data)\n",
    "validation_data = list(validation_data)\n",
    "test_data = list(test_data)"
   ]
  },
  {
   "cell_type": "code",
   "execution_count": 6,
   "metadata": {},
   "outputs": [],
   "source": [
    "net = network2.Network([784, 30, 10])"
   ]
  },
  {
   "cell_type": "code",
   "execution_count": 9,
   "metadata": {},
   "outputs": [
    {
     "name": "stdout",
     "output_type": "stream",
     "text": [
      "Epoch 0 training complete\n",
      "Accuracy on evaluation data: 9325 / 10000\n",
      "Epoch 1 training complete\n",
      "Accuracy on evaluation data: 9471 / 10000\n",
      "Epoch 2 training complete\n",
      "Accuracy on evaluation data: 9499 / 10000\n"
     ]
    },
    {
     "ename": "KeyboardInterrupt",
     "evalue": "",
     "output_type": "error",
     "traceback": [
      "\u001b[0;31m---------------------------------------------------------------------------\u001b[0m",
      "\u001b[0;31mKeyboardInterrupt\u001b[0m                         Traceback (most recent call last)",
      "Cell \u001b[0;32mIn[9], line 1\u001b[0m\n\u001b[0;32m----> 1\u001b[0m \u001b[43mnet\u001b[49m\u001b[38;5;241;43m.\u001b[39;49m\u001b[43mSGD\u001b[49m\u001b[43m(\u001b[49m\n\u001b[1;32m      2\u001b[0m \u001b[43m    \u001b[49m\u001b[43mtraining_data\u001b[49m\u001b[38;5;241;43m=\u001b[39;49m\u001b[43mtraining_data\u001b[49m\u001b[43m,\u001b[49m\n\u001b[1;32m      3\u001b[0m \u001b[43m    \u001b[49m\u001b[43mepochs\u001b[49m\u001b[38;5;241;43m=\u001b[39;49m\u001b[38;5;241;43m30\u001b[39;49m\u001b[43m,\u001b[49m\n\u001b[1;32m      4\u001b[0m \u001b[43m    \u001b[49m\u001b[43mmini_batch_size\u001b[49m\u001b[38;5;241;43m=\u001b[39;49m\u001b[38;5;241;43m10\u001b[39;49m\u001b[43m,\u001b[49m\n\u001b[1;32m      5\u001b[0m \u001b[43m    \u001b[49m\u001b[43meta\u001b[49m\u001b[38;5;241;43m=\u001b[39;49m\u001b[38;5;241;43m0.1\u001b[39;49m\u001b[43m,\u001b[49m\n\u001b[1;32m      6\u001b[0m \u001b[43m    \u001b[49m\u001b[43mlmbda\u001b[49m\u001b[38;5;241;43m=\u001b[39;49m\u001b[38;5;241;43m5.0\u001b[39;49m\u001b[43m,\u001b[49m\n\u001b[1;32m      7\u001b[0m \u001b[43m    \u001b[49m\u001b[43mevaluation_data\u001b[49m\u001b[38;5;241;43m=\u001b[39;49m\u001b[43mvalidation_data\u001b[49m\u001b[43m,\u001b[49m\n\u001b[1;32m      8\u001b[0m \u001b[43m    \u001b[49m\u001b[43mmonitor_evaluation_accuracy\u001b[49m\u001b[38;5;241;43m=\u001b[39;49m\u001b[38;5;28;43;01mTrue\u001b[39;49;00m\u001b[43m,\u001b[49m\n\u001b[1;32m      9\u001b[0m \u001b[43m)\u001b[49m\n",
      "File \u001b[0;32m~/Desktop/yj-memos-quarto/learning/nielson-deep-learning/network2.py:173\u001b[0m, in \u001b[0;36mNetwork.SGD\u001b[0;34m(self, training_data, epochs, mini_batch_size, eta, lmbda, evaluation_data, monitor_evaluation_cost, monitor_evaluation_accuracy, monitor_training_cost, monitor_training_accuracy)\u001b[0m\n\u001b[1;32m    168\u001b[0m mini_batches \u001b[38;5;241m=\u001b[39m [\n\u001b[1;32m    169\u001b[0m     training_data[k : k \u001b[38;5;241m+\u001b[39m mini_batch_size]\n\u001b[1;32m    170\u001b[0m     \u001b[38;5;28;01mfor\u001b[39;00m k \u001b[38;5;129;01min\u001b[39;00m \u001b[38;5;28mrange\u001b[39m(\u001b[38;5;241m0\u001b[39m, n, mini_batch_size)\n\u001b[1;32m    171\u001b[0m ]\n\u001b[1;32m    172\u001b[0m \u001b[38;5;28;01mfor\u001b[39;00m mini_batch \u001b[38;5;129;01min\u001b[39;00m mini_batches:\n\u001b[0;32m--> 173\u001b[0m     \u001b[38;5;28;43mself\u001b[39;49m\u001b[38;5;241;43m.\u001b[39;49m\u001b[43mupdate_mini_batch\u001b[49m\u001b[43m(\u001b[49m\u001b[43mmini_batch\u001b[49m\u001b[43m,\u001b[49m\u001b[43m \u001b[49m\u001b[43meta\u001b[49m\u001b[43m,\u001b[49m\u001b[43m \u001b[49m\u001b[43mlmbda\u001b[49m\u001b[43m,\u001b[49m\u001b[43m \u001b[49m\u001b[38;5;28;43mlen\u001b[39;49m\u001b[43m(\u001b[49m\u001b[43mtraining_data\u001b[49m\u001b[43m)\u001b[49m\u001b[43m)\u001b[49m\n\u001b[1;32m    174\u001b[0m \u001b[38;5;28mprint\u001b[39m(\u001b[38;5;124m\"\u001b[39m\u001b[38;5;124mEpoch \u001b[39m\u001b[38;5;132;01m%s\u001b[39;00m\u001b[38;5;124m training complete\u001b[39m\u001b[38;5;124m\"\u001b[39m \u001b[38;5;241m%\u001b[39m j)\n\u001b[1;32m    175\u001b[0m \u001b[38;5;28;01mif\u001b[39;00m monitor_training_cost:\n",
      "File \u001b[0;32m~/Desktop/yj-memos-quarto/learning/nielson-deep-learning/network2.py:211\u001b[0m, in \u001b[0;36mNetwork.update_mini_batch\u001b[0;34m(self, mini_batch, eta, lmbda, n)\u001b[0m\n\u001b[1;32m    209\u001b[0m     delta_nabla_b, delta_nabla_w \u001b[38;5;241m=\u001b[39m \u001b[38;5;28mself\u001b[39m\u001b[38;5;241m.\u001b[39mbackprop(x, y)\n\u001b[1;32m    210\u001b[0m     nabla_b \u001b[38;5;241m=\u001b[39m [nb \u001b[38;5;241m+\u001b[39m dnb \u001b[38;5;28;01mfor\u001b[39;00m nb, dnb \u001b[38;5;129;01min\u001b[39;00m \u001b[38;5;28mzip\u001b[39m(nabla_b, delta_nabla_b)]\n\u001b[0;32m--> 211\u001b[0m     nabla_w \u001b[38;5;241m=\u001b[39m \u001b[43m[\u001b[49m\u001b[43mnw\u001b[49m\u001b[43m \u001b[49m\u001b[38;5;241;43m+\u001b[39;49m\u001b[43m \u001b[49m\u001b[43mdnw\u001b[49m\u001b[43m \u001b[49m\u001b[38;5;28;43;01mfor\u001b[39;49;00m\u001b[43m \u001b[49m\u001b[43mnw\u001b[49m\u001b[43m,\u001b[49m\u001b[43m \u001b[49m\u001b[43mdnw\u001b[49m\u001b[43m \u001b[49m\u001b[38;5;129;43;01min\u001b[39;49;00m\u001b[43m \u001b[49m\u001b[38;5;28;43mzip\u001b[39;49m\u001b[43m(\u001b[49m\u001b[43mnabla_w\u001b[49m\u001b[43m,\u001b[49m\u001b[43m \u001b[49m\u001b[43mdelta_nabla_w\u001b[49m\u001b[43m)\u001b[49m\u001b[43m]\u001b[49m\n\u001b[1;32m    212\u001b[0m \u001b[38;5;28mself\u001b[39m\u001b[38;5;241m.\u001b[39mweights \u001b[38;5;241m=\u001b[39m [\n\u001b[1;32m    213\u001b[0m     (\u001b[38;5;241m1\u001b[39m \u001b[38;5;241m-\u001b[39m eta \u001b[38;5;241m*\u001b[39m (lmbda \u001b[38;5;241m/\u001b[39m n)) \u001b[38;5;241m*\u001b[39m w \u001b[38;5;241m-\u001b[39m (eta \u001b[38;5;241m/\u001b[39m \u001b[38;5;28mlen\u001b[39m(mini_batch)) \u001b[38;5;241m*\u001b[39m nw\n\u001b[1;32m    214\u001b[0m     \u001b[38;5;28;01mfor\u001b[39;00m w, nw \u001b[38;5;129;01min\u001b[39;00m \u001b[38;5;28mzip\u001b[39m(\u001b[38;5;28mself\u001b[39m\u001b[38;5;241m.\u001b[39mweights, nabla_w)\n\u001b[1;32m    215\u001b[0m ]\n\u001b[1;32m    216\u001b[0m \u001b[38;5;28mself\u001b[39m\u001b[38;5;241m.\u001b[39mbiases \u001b[38;5;241m=\u001b[39m [\n\u001b[1;32m    217\u001b[0m     b \u001b[38;5;241m-\u001b[39m (eta \u001b[38;5;241m/\u001b[39m \u001b[38;5;28mlen\u001b[39m(mini_batch)) \u001b[38;5;241m*\u001b[39m nb \u001b[38;5;28;01mfor\u001b[39;00m b, nb \u001b[38;5;129;01min\u001b[39;00m \u001b[38;5;28mzip\u001b[39m(\u001b[38;5;28mself\u001b[39m\u001b[38;5;241m.\u001b[39mbiases, nabla_b)\n\u001b[1;32m    218\u001b[0m ]\n",
      "File \u001b[0;32m~/Desktop/yj-memos-quarto/learning/nielson-deep-learning/network2.py:211\u001b[0m, in \u001b[0;36m<listcomp>\u001b[0;34m(.0)\u001b[0m\n\u001b[1;32m    209\u001b[0m     delta_nabla_b, delta_nabla_w \u001b[38;5;241m=\u001b[39m \u001b[38;5;28mself\u001b[39m\u001b[38;5;241m.\u001b[39mbackprop(x, y)\n\u001b[1;32m    210\u001b[0m     nabla_b \u001b[38;5;241m=\u001b[39m [nb \u001b[38;5;241m+\u001b[39m dnb \u001b[38;5;28;01mfor\u001b[39;00m nb, dnb \u001b[38;5;129;01min\u001b[39;00m \u001b[38;5;28mzip\u001b[39m(nabla_b, delta_nabla_b)]\n\u001b[0;32m--> 211\u001b[0m     nabla_w \u001b[38;5;241m=\u001b[39m [nw \u001b[38;5;241m+\u001b[39m dnw \u001b[38;5;28;01mfor\u001b[39;00m nw, dnw \u001b[38;5;129;01min\u001b[39;00m \u001b[38;5;28mzip\u001b[39m(nabla_w, delta_nabla_w)]\n\u001b[1;32m    212\u001b[0m \u001b[38;5;28mself\u001b[39m\u001b[38;5;241m.\u001b[39mweights \u001b[38;5;241m=\u001b[39m [\n\u001b[1;32m    213\u001b[0m     (\u001b[38;5;241m1\u001b[39m \u001b[38;5;241m-\u001b[39m eta \u001b[38;5;241m*\u001b[39m (lmbda \u001b[38;5;241m/\u001b[39m n)) \u001b[38;5;241m*\u001b[39m w \u001b[38;5;241m-\u001b[39m (eta \u001b[38;5;241m/\u001b[39m \u001b[38;5;28mlen\u001b[39m(mini_batch)) \u001b[38;5;241m*\u001b[39m nw\n\u001b[1;32m    214\u001b[0m     \u001b[38;5;28;01mfor\u001b[39;00m w, nw \u001b[38;5;129;01min\u001b[39;00m \u001b[38;5;28mzip\u001b[39m(\u001b[38;5;28mself\u001b[39m\u001b[38;5;241m.\u001b[39mweights, nabla_w)\n\u001b[1;32m    215\u001b[0m ]\n\u001b[1;32m    216\u001b[0m \u001b[38;5;28mself\u001b[39m\u001b[38;5;241m.\u001b[39mbiases \u001b[38;5;241m=\u001b[39m [\n\u001b[1;32m    217\u001b[0m     b \u001b[38;5;241m-\u001b[39m (eta \u001b[38;5;241m/\u001b[39m \u001b[38;5;28mlen\u001b[39m(mini_batch)) \u001b[38;5;241m*\u001b[39m nb \u001b[38;5;28;01mfor\u001b[39;00m b, nb \u001b[38;5;129;01min\u001b[39;00m \u001b[38;5;28mzip\u001b[39m(\u001b[38;5;28mself\u001b[39m\u001b[38;5;241m.\u001b[39mbiases, nabla_b)\n\u001b[1;32m    218\u001b[0m ]\n",
      "\u001b[0;31mKeyboardInterrupt\u001b[0m: "
     ]
    }
   ],
   "source": [
    "net.SGD(\n",
    "    training_data=training_data,\n",
    "    epochs=30,\n",
    "    mini_batch_size=10,\n",
    "    eta=0.1,\n",
    "    lmbda=5.0,\n",
    "    evaluation_data=validation_data,\n",
    "    monitor_evaluation_accuracy=True,\n",
    ")"
   ]
  }
 ],
 "metadata": {
  "kernelspec": {
   "display_name": "venv",
   "language": "python",
   "name": "python3"
  },
  "language_info": {
   "codemirror_mode": {
    "name": "ipython",
    "version": 3
   },
   "file_extension": ".py",
   "mimetype": "text/x-python",
   "name": "python",
   "nbconvert_exporter": "python",
   "pygments_lexer": "ipython3",
   "version": "3.11.4"
  }
 },
 "nbformat": 4,
 "nbformat_minor": 2
}
