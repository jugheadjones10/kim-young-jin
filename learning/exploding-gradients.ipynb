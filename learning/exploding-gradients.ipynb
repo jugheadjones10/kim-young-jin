{
 "cells": [
  {
   "cell_type": "raw",
   "metadata": {
    "vscode": {
     "languageId": "raw"
    }
   },
   "source": [
    "---\n",
    "title: \"‘Insight’ in the pigeon: antecedents and determinants of an intelligent  performance\"\n",
    "author: \"Kim Young Jin\"\n",
    "date: \"2024-05-10\"\n",
    "categories: [paper summary]\n",
    "doi: https://doi.org/10.1038/308061a0\n",
    "---"
   ]
  },
  {
   "cell_type": "markdown",
   "metadata": {},
   "source": [
    "What are exploding gradients? Why do they happen?\n"
   ]
  }
 ],
 "metadata": {
  "language_info": {
   "name": "python"
  }
 },
 "nbformat": 4,
 "nbformat_minor": 2
}
