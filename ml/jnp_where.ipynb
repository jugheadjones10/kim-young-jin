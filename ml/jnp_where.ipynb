{
 "cells": [
  {
   "cell_type": "code",
   "execution_count": 45,
   "id": "74aa5339",
   "metadata": {},
   "outputs": [],
   "source": [
    "import jax\n",
    "import jax.numpy as jnp"
   ]
  },
  {
   "cell_type": "code",
   "execution_count": null,
   "id": "8001f083",
   "metadata": {},
   "outputs": [
    {
     "ename": "ConcretizationTypeError",
     "evalue": "Abstract tracer value encountered where concrete value is expected: traced array with shape int32[]\nThe size argument of jnp.nonzero must be statically specified to use jnp.nonzero within JAX transformations.\nThe error occurred while tracing the function main at /var/folders/q4/2lsmb6qd1ks8137720rg8fz80000gn/T/ipykernel_37873/3900357575.py:1 for jit. This value became a tracer due to JAX operations on these lines:\n\n  operation a\u001b[35m:i32[6]\u001b[39m = convert_element_type[new_dtype=int32 weak_type=False] b\n    from line /var/folders/q4/2lsmb6qd1ks8137720rg8fz80000gn/T/ipykernel_37873/3900357575.py:5:14 (main)\n\n  operation a\u001b[35m:i32[]\u001b[39m = convert_element_type[new_dtype=int32 weak_type=False] b\n    from line /var/folders/q4/2lsmb6qd1ks8137720rg8fz80000gn/T/ipykernel_37873/3900357575.py:6:33 (main)\n\nSee https://jax.readthedocs.io/en/latest/errors.html#jax.errors.ConcretizationTypeError",
     "output_type": "error",
     "traceback": [
      "\u001b[31m---------------------------------------------------------------------------\u001b[39m",
      "\u001b[31mConcretizationTypeError\u001b[39m                   Traceback (most recent call last)",
      "\u001b[36mCell\u001b[39m\u001b[36m \u001b[39m\u001b[32mIn[43]\u001b[39m\u001b[32m, line 10\u001b[39m\n\u001b[32m      7\u001b[39m     choice = jax.random.choice(key, filtered_puzzles, shape=())\n\u001b[32m      8\u001b[39m     \u001b[38;5;28;01mreturn\u001b[39;00m choice\n\u001b[32m---> \u001b[39m\u001b[32m10\u001b[39m \u001b[43mmain\u001b[49m\u001b[43m(\u001b[49m\u001b[43m)\u001b[49m\n",
      "    \u001b[31m[... skipping hidden 13 frame]\u001b[39m\n",
      "\u001b[36mCell\u001b[39m\u001b[36m \u001b[39m\u001b[32mIn[43]\u001b[39m\u001b[32m, line 6\u001b[39m, in \u001b[36mmain\u001b[39m\u001b[34m()\u001b[39m\n\u001b[32m      3\u001b[39m key = jax.random.PRNGKey(\u001b[32m1\u001b[39m)\n\u001b[32m      5\u001b[39m puzzles = jnp.array([\u001b[32m0\u001b[39m, \u001b[32m1\u001b[39m, \u001b[32m2\u001b[39m, \u001b[32m3\u001b[39m, \u001b[32m4\u001b[39m, \u001b[32m5\u001b[39m])\n\u001b[32m----> \u001b[39m\u001b[32m6\u001b[39m filtered_puzzles = \u001b[43mjnp\u001b[49m\u001b[43m.\u001b[49m\u001b[43mwhere\u001b[49m\u001b[43m(\u001b[49m\u001b[43mpuzzles\u001b[49m\u001b[43m \u001b[49m\u001b[43m>\u001b[49m\u001b[43m \u001b[49m\u001b[32;43m3\u001b[39;49m\u001b[43m)\u001b[49m\n\u001b[32m      7\u001b[39m choice = jax.random.choice(key, filtered_puzzles, shape=())\n\u001b[32m      8\u001b[39m \u001b[38;5;28;01mreturn\u001b[39;00m choice\n",
      "\u001b[36mFile \u001b[39m\u001b[32m~/Projects/monkey/xland-minigrid/.venv/lib/python3.11/site-packages/jax/_src/numpy/lax_numpy.py:2849\u001b[39m, in \u001b[36mwhere\u001b[39m\u001b[34m(condition, x, y, size, fill_value)\u001b[39m\n\u001b[32m   2847\u001b[39m \u001b[38;5;28;01mif\u001b[39;00m x \u001b[38;5;129;01mis\u001b[39;00m \u001b[38;5;28;01mNone\u001b[39;00m \u001b[38;5;129;01mand\u001b[39;00m y \u001b[38;5;129;01mis\u001b[39;00m \u001b[38;5;28;01mNone\u001b[39;00m:\n\u001b[32m   2848\u001b[39m   util.check_arraylike(\u001b[33m\"\u001b[39m\u001b[33mwhere\u001b[39m\u001b[33m\"\u001b[39m, condition)\n\u001b[32m-> \u001b[39m\u001b[32m2849\u001b[39m   \u001b[38;5;28;01mreturn\u001b[39;00m \u001b[43mnonzero\u001b[49m\u001b[43m(\u001b[49m\u001b[43mcondition\u001b[49m\u001b[43m,\u001b[49m\u001b[43m \u001b[49m\u001b[43msize\u001b[49m\u001b[43m=\u001b[49m\u001b[43msize\u001b[49m\u001b[43m,\u001b[49m\u001b[43m \u001b[49m\u001b[43mfill_value\u001b[49m\u001b[43m=\u001b[49m\u001b[43mfill_value\u001b[49m\u001b[43m)\u001b[49m\n\u001b[32m   2850\u001b[39m \u001b[38;5;28;01melse\u001b[39;00m:\n\u001b[32m   2851\u001b[39m   util.check_arraylike(\u001b[33m\"\u001b[39m\u001b[33mwhere\u001b[39m\u001b[33m\"\u001b[39m, condition, x, y)\n",
      "\u001b[36mFile \u001b[39m\u001b[32m~/Projects/monkey/xland-minigrid/.venv/lib/python3.11/site-packages/jax/_src/numpy/lax_numpy.py:3774\u001b[39m, in \u001b[36mnonzero\u001b[39m\u001b[34m(***failed resolving arguments***)\u001b[39m\n\u001b[32m   3772\u001b[39m mask = arr \u001b[38;5;28;01mif\u001b[39;00m arr.dtype == \u001b[38;5;28mbool\u001b[39m \u001b[38;5;28;01melse\u001b[39;00m (arr != \u001b[32m0\u001b[39m)\n\u001b[32m   3773\u001b[39m calculated_size_ = mask.sum() \u001b[38;5;28;01mif\u001b[39;00m size \u001b[38;5;129;01mis\u001b[39;00m \u001b[38;5;28;01mNone\u001b[39;00m \u001b[38;5;28;01melse\u001b[39;00m size\n\u001b[32m-> \u001b[39m\u001b[32m3774\u001b[39m calculated_size: \u001b[38;5;28mint\u001b[39m = \u001b[43mcore\u001b[49m\u001b[43m.\u001b[49m\u001b[43mconcrete_dim_or_error\u001b[49m\u001b[43m(\u001b[49m\u001b[43mcalculated_size_\u001b[49m\u001b[43m,\u001b[49m\n\u001b[32m   3775\u001b[39m \u001b[43m  \u001b[49m\u001b[33;43m\"\u001b[39;49m\u001b[33;43mThe size argument of jnp.nonzero must be statically specified \u001b[39;49m\u001b[33;43m\"\u001b[39;49m\n\u001b[32m   3776\u001b[39m \u001b[43m  \u001b[49m\u001b[33;43m\"\u001b[39;49m\u001b[33;43mto use jnp.nonzero within JAX transformations.\u001b[39;49m\u001b[33;43m\"\u001b[39;49m\u001b[43m)\u001b[49m\n\u001b[32m   3777\u001b[39m \u001b[38;5;28;01mif\u001b[39;00m arr.size == \u001b[32m0\u001b[39m \u001b[38;5;129;01mor\u001b[39;00m calculated_size == \u001b[32m0\u001b[39m:\n\u001b[32m   3778\u001b[39m   \u001b[38;5;28;01mreturn\u001b[39;00m \u001b[38;5;28mtuple\u001b[39m(zeros(calculated_size, \u001b[38;5;28mint\u001b[39m) \u001b[38;5;28;01mfor\u001b[39;00m dim \u001b[38;5;129;01min\u001b[39;00m arr.shape)\n",
      "    \u001b[31m[... skipping hidden 1 frame]\u001b[39m\n",
      "\u001b[36mFile \u001b[39m\u001b[32m~/Projects/monkey/xland-minigrid/.venv/lib/python3.11/site-packages/jax/_src/core.py:1588\u001b[39m, in \u001b[36mconcrete_or_error\u001b[39m\u001b[34m(force, val, context)\u001b[39m\n\u001b[32m   1586\u001b[39m maybe_concrete = val.to_concrete_value()\n\u001b[32m   1587\u001b[39m \u001b[38;5;28;01mif\u001b[39;00m maybe_concrete \u001b[38;5;129;01mis\u001b[39;00m \u001b[38;5;28;01mNone\u001b[39;00m:\n\u001b[32m-> \u001b[39m\u001b[32m1588\u001b[39m   \u001b[38;5;28;01mraise\u001b[39;00m ConcretizationTypeError(val, context)\n\u001b[32m   1589\u001b[39m \u001b[38;5;28;01melse\u001b[39;00m:\n\u001b[32m   1590\u001b[39m   \u001b[38;5;28;01mreturn\u001b[39;00m force(maybe_concrete)\n",
      "\u001b[31mConcretizationTypeError\u001b[39m: Abstract tracer value encountered where concrete value is expected: traced array with shape int32[]\nThe size argument of jnp.nonzero must be statically specified to use jnp.nonzero within JAX transformations.\nThe error occurred while tracing the function main at /var/folders/q4/2lsmb6qd1ks8137720rg8fz80000gn/T/ipykernel_37873/3900357575.py:1 for jit. This value became a tracer due to JAX operations on these lines:\n\n  operation a\u001b[35m:i32[6]\u001b[39m = convert_element_type[new_dtype=int32 weak_type=False] b\n    from line /var/folders/q4/2lsmb6qd1ks8137720rg8fz80000gn/T/ipykernel_37873/3900357575.py:5:14 (main)\n\n  operation a\u001b[35m:i32[]\u001b[39m = convert_element_type[new_dtype=int32 weak_type=False] b\n    from line /var/folders/q4/2lsmb6qd1ks8137720rg8fz80000gn/T/ipykernel_37873/3900357575.py:6:33 (main)\n\nSee https://jax.readthedocs.io/en/latest/errors.html#jax.errors.ConcretizationTypeError"
     ]
    }
   ],
   "source": [
    "@jax.jit\n",
    "def main():\n",
    "    key = jax.random.PRNGKey(1)\n",
    "\n",
    "    puzzles = jnp.array([0, 1, 2, 3, 4, 5])\n",
    "    filtered_puzzles = jnp.where(puzzles > 3)\n",
    "    choice = jax.random.choice(key, filtered_puzzles, shape=())\n",
    "    return choice\n",
    "\n",
    "\n",
    "main()"
   ]
  },
  {
   "cell_type": "markdown",
   "id": "c49aa036",
   "metadata": {},
   "source": [
    "The above code results in a `ConcretizationTypeError` because the size of the filtered_puzzles array is variable. But Jax needs to know the shapes of all the arrays it works with in advance.\n"
   ]
  },
  {
   "cell_type": "markdown",
   "id": "5bcce6f4",
   "metadata": {},
   "source": [
    "We fix it by doing this:\n"
   ]
  },
  {
   "cell_type": "code",
   "execution_count": 44,
   "id": "524738ae",
   "metadata": {},
   "outputs": [
    {
     "data": {
      "text/plain": [
       "Array(5, dtype=int32)"
      ]
     },
     "execution_count": 44,
     "metadata": {},
     "output_type": "execute_result"
    }
   ],
   "source": [
    "@jax.jit\n",
    "def main():\n",
    "    key = jax.random.PRNGKey(1)\n",
    "\n",
    "    puzzles = jnp.array([0, 1, 2, 3, 4, 5])\n",
    "    is_valid = puzzles > 3\n",
    "    choice = jax.random.choice(key, puzzles, shape=(), p=is_valid)\n",
    "    return choice\n",
    "\n",
    "\n",
    "main()\n"
   ]
  }
 ],
 "metadata": {
  "kernelspec": {
   "display_name": ".venv",
   "language": "python",
   "name": "python3"
  },
  "language_info": {
   "codemirror_mode": {
    "name": "ipython",
    "version": 3
   },
   "file_extension": ".py",
   "mimetype": "text/x-python",
   "name": "python",
   "nbconvert_exporter": "python",
   "pygments_lexer": "ipython3",
   "version": "3.11.4"
  }
 },
 "nbformat": 4,
 "nbformat_minor": 5
}
